{
 "cells": [
  {
   "cell_type": "markdown",
   "metadata": {},
   "source": [
    "<h1>CNN cat vs dogs</h1>\n",
    "\n",
    "Siec stworzona w oparciu o kiążke Deep Learning with Python, François Chollet\n",
    "W notatniku są dwa modele jeden bez augmentacji drugi z augmentacja"
   ]
  },
  {
   "cell_type": "code",
   "execution_count": 1,
   "metadata": {},
   "outputs": [],
   "source": [
    "import os, shutil\n",
    "\n",
    "orignal_dataset_directory = './data/train'\n",
    "\n",
    "small_dataset_directory = './small_data'\n",
    "os.mkdir(small_dataset_directory)\n",
    "\n",
    "# Directory for training data\n",
    "train_dir = os.path.join(small_dataset_directory,'train')\n",
    "os.mkdir(train_dir)\n",
    "\n",
    "# Directory for validation data\n",
    "validation_dir = os.path.join(small_dataset_directory,'validation')\n",
    "os.mkdir(validation_dir)\n",
    "\n",
    "#Directory for test data\n",
    "test_dir = os.path.join(small_dataset_directory,'test')\n",
    "os.mkdir(test_dir)\n",
    "\n",
    "# Training directoy with cats\n",
    "train_cats_dir = os.path.join(train_dir,'cats')\n",
    "os.mkdir(train_cats_dir)\n",
    "\n",
    "# Training directoy with dogs\n",
    "train_dogs_dir = os.path.join(train_dir,'dogs')\n",
    "os.mkdir(train_dogs_dir)\n",
    "\n",
    "# Valid directoy with cats\n",
    "valid_cats_dir = os.path.join(validation_dir,'cats')\n",
    "os.mkdir(valid_cats_dir)\n",
    "\n",
    "# Valid directoy with dogs\n",
    "valid_dogs_dir = os.path.join(validation_dir,'dogs')\n",
    "os.mkdir(valid_dogs_dir)\n",
    "\n",
    "# Test directoy with cats\n",
    "test_cats_dir = os.path.join(test_dir,'cats')\n",
    "os.mkdir(test_cats_dir)\n",
    "\n",
    "# Test directoy with dogs\n",
    "test_dogs_dir = os.path.join(test_dir,'dogs')\n",
    "os.mkdir(test_dogs_dir)"
   ]
  },
  {
   "cell_type": "code",
   "execution_count": 2,
   "metadata": {},
   "outputs": [],
   "source": [
    "# To train cats data\n",
    "fnames = ['cat.{}.jpg'.format(i) for i in range(1000)]\n",
    "for fname in fnames:\n",
    "    src = os.path.join(orignal_dataset_directory,fname)\n",
    "    dst = os.path.join(train_cats_dir,fname)\n",
    "    shutil.copyfile(src, dst)\n",
    "    \n",
    "# To valid cats data\n",
    "fnames = ['cat.{}.jpg'.format(i) for i in range(1000, 1500)]\n",
    "for fname in fnames:\n",
    "    src = os.path.join(orignal_dataset_directory,fname)\n",
    "    dst = os.path.join(valid_cats_dir,fname)\n",
    "    shutil.copyfile(src, dst)\n",
    "    \n",
    "# To test cats data   \n",
    "fnames = ['cat.{}.jpg'.format(i) for i in range(1500, 2000)]\n",
    "for fname in fnames:\n",
    "    src = os.path.join(orignal_dataset_directory,fname)\n",
    "    dst = os.path.join(test_cats_dir,fname)\n",
    "    shutil.copyfile(src, dst)\n",
    "    \n",
    "\n",
    "# To train dogs data\n",
    "fnames = ['dog.{}.jpg'.format(i) for i in range(1000)]\n",
    "for fname in fnames:\n",
    "    src = os.path.join(orignal_dataset_directory,fname)\n",
    "    dst = os.path.join(train_dogs_dir,fname)\n",
    "    shutil.copyfile(src, dst)\n",
    "    \n",
    "# To valid dogs data\n",
    "fnames = ['dog.{}.jpg'.format(i) for i in range(1000, 1500)]\n",
    "for fname in fnames:\n",
    "    src = os.path.join(orignal_dataset_directory,fname)\n",
    "    dst = os.path.join(valid_dogs_dir,fname)\n",
    "    shutil.copyfile(src, dst)\n",
    "    \n",
    "# To test dogs data   \n",
    "fnames = ['dog.{}.jpg'.format(i) for i in range(1500, 2000)]\n",
    "for fname in fnames:\n",
    "    src = os.path.join(orignal_dataset_directory,fname)\n",
    "    dst = os.path.join(test_dogs_dir,fname)\n",
    "    shutil.copyfile(src, dst)"
   ]
  },
  {
   "cell_type": "code",
   "execution_count": 3,
   "metadata": {},
   "outputs": [
    {
     "name": "stdout",
     "output_type": "stream",
     "text": [
      "total training cats images: 1000\n",
      "total valid cats images: 500\n",
      "total test cats images: 500\n",
      "total training dogs images: 1000\n",
      "total valid dogs images: 500\n",
      "total test dogs images: 500\n"
     ]
    }
   ],
   "source": [
    "print('total training cats images:', len(os.listdir(train_cats_dir)))\n",
    "print('total valid cats images:', len(os.listdir(valid_cats_dir)))\n",
    "print('total test cats images:', len(os.listdir(test_cats_dir)))\n",
    "print('total training dogs images:', len(os.listdir(train_dogs_dir)))\n",
    "print('total valid dogs images:', len(os.listdir(valid_dogs_dir)))\n",
    "print('total test dogs images:', len(os.listdir(test_dogs_dir)))"
   ]
  },
  {
   "cell_type": "code",
   "execution_count": 4,
   "metadata": {},
   "outputs": [],
   "source": [
    "from tensorflow import keras\n",
    "from tensorflow.keras import layers\n",
    "model = keras.models.Sequential()\n",
    "\n",
    "model.add(layers.Conv2D( 32, (3,3), activation = 'relu', input_shape = (150,150,3)))\n",
    "model.add(layers.MaxPooling2D((2,2)))\n",
    "model.add(layers.Conv2D( 64, (3,3), activation = 'relu'))\n",
    "model.add(layers.MaxPooling2D((2,2)))\n",
    "model.add(layers.Conv2D( 128, (3,3), activation = 'relu'))\n",
    "model.add(layers.MaxPooling2D((2,2)))\n",
    "model.add(layers.Conv2D( 128, (3,3), activation = 'relu'))\n",
    "model.add(layers.MaxPooling2D((2,2)))\n",
    "model.add(layers.Flatten())\n",
    "model.add(layers.Dense(512, activation = 'relu'))\n",
    "model.add(layers.Dense(1, activation = 'sigmoid'))"
   ]
  },
  {
   "cell_type": "code",
   "execution_count": 5,
   "metadata": {},
   "outputs": [
    {
     "name": "stdout",
     "output_type": "stream",
     "text": [
      "Model: \"sequential\"\n",
      "_________________________________________________________________\n",
      "Layer (type)                 Output Shape              Param #   \n",
      "=================================================================\n",
      "conv2d (Conv2D)              (None, 148, 148, 32)      896       \n",
      "_________________________________________________________________\n",
      "max_pooling2d (MaxPooling2D) (None, 74, 74, 32)        0         \n",
      "_________________________________________________________________\n",
      "conv2d_1 (Conv2D)            (None, 72, 72, 64)        18496     \n",
      "_________________________________________________________________\n",
      "max_pooling2d_1 (MaxPooling2 (None, 36, 36, 64)        0         \n",
      "_________________________________________________________________\n",
      "conv2d_2 (Conv2D)            (None, 34, 34, 128)       73856     \n",
      "_________________________________________________________________\n",
      "max_pooling2d_2 (MaxPooling2 (None, 17, 17, 128)       0         \n",
      "_________________________________________________________________\n",
      "conv2d_3 (Conv2D)            (None, 15, 15, 128)       147584    \n",
      "_________________________________________________________________\n",
      "max_pooling2d_3 (MaxPooling2 (None, 7, 7, 128)         0         \n",
      "_________________________________________________________________\n",
      "flatten (Flatten)            (None, 6272)              0         \n",
      "_________________________________________________________________\n",
      "dense (Dense)                (None, 512)               3211776   \n",
      "_________________________________________________________________\n",
      "dense_1 (Dense)              (None, 1)                 513       \n",
      "=================================================================\n",
      "Total params: 3,453,121\n",
      "Trainable params: 3,453,121\n",
      "Non-trainable params: 0\n",
      "_________________________________________________________________\n"
     ]
    }
   ],
   "source": [
    "model.summary()"
   ]
  },
  {
   "cell_type": "code",
   "execution_count": 6,
   "metadata": {},
   "outputs": [],
   "source": [
    "from tensorflow.keras import optimizers\n",
    "\n",
    "model.compile(loss = 'binary_crossentropy', optimizer = optimizers.RMSprop(lr = 1e-4), metrics = 'accuracy' )"
   ]
  },
  {
   "cell_type": "code",
   "execution_count": 7,
   "metadata": {},
   "outputs": [
    {
     "name": "stdout",
     "output_type": "stream",
     "text": [
      "Found 2000 images belonging to 2 classes.\n",
      "Found 1000 images belonging to 2 classes.\n",
      "Found 1000 images belonging to 2 classes.\n"
     ]
    }
   ],
   "source": [
    "from tensorflow.keras.preprocessing.image import ImageDataGenerator\n",
    "\n",
    "train_datagen = ImageDataGenerator(rescale = 1./255 )\n",
    "test_datagen = ImageDataGenerator(rescale = 1./255 )\n",
    "valid_datagen = ImageDataGenerator(rescale = 1./255 )\n",
    "train_datagen = train_datagen.flow_from_directory(\n",
    "    train_dir,\n",
    "    target_size = (150, 150),\n",
    "    batch_size = 20,\n",
    "    class_mode = 'binary')\n",
    "\n",
    "valid_datagen = valid_datagen.flow_from_directory(\n",
    "    validation_dir,\n",
    "    target_size = (150, 150),\n",
    "    batch_size = 20,\n",
    "    class_mode = 'binary')\n",
    "\n",
    "test_datagen = test_datagen.flow_from_directory(\n",
    "    test_dir,\n",
    "    target_size = (150, 150),\n",
    "    batch_size = 20,\n",
    "    class_mode = 'binary')"
   ]
  },
  {
   "cell_type": "code",
   "execution_count": 8,
   "metadata": {},
   "outputs": [
    {
     "name": "stdout",
     "output_type": "stream",
     "text": [
      "data batch shape: (20, 150, 150, 3)\n",
      "labels batch shape: (20,)\n"
     ]
    }
   ],
   "source": [
    "for data_batch, labels_batch in train_datagen:\n",
    "    print('data batch shape:', data_batch.shape)\n",
    "    print('labels batch shape:', labels_batch.shape)\n",
    "    break\n",
    "    "
   ]
  },
  {
   "cell_type": "code",
   "execution_count": 9,
   "metadata": {},
   "outputs": [
    {
     "name": "stderr",
     "output_type": "stream",
     "text": [
      "/home/tomasz/anaconda3/envs/mymlenv/lib/python3.6/site-packages/tensorflow/python/keras/engine/training.py:1844: UserWarning: `Model.fit_generator` is deprecated and will be removed in a future version. Please use `Model.fit`, which supports generators.\n",
      "  warnings.warn('`Model.fit_generator` is deprecated and '\n"
     ]
    },
    {
     "name": "stdout",
     "output_type": "stream",
     "text": [
      "Epoch 1/30\n",
      "100/100 [==============================] - 28s 269ms/step - loss: 0.6993 - accuracy: 0.5150 - val_loss: 0.6759 - val_accuracy: 0.5450\n",
      "Epoch 2/30\n",
      "100/100 [==============================] - 27s 269ms/step - loss: 0.6623 - accuracy: 0.6138 - val_loss: 0.6694 - val_accuracy: 0.5870\n",
      "Epoch 3/30\n",
      "100/100 [==============================] - 29s 289ms/step - loss: 0.6239 - accuracy: 0.6557 - val_loss: 0.6229 - val_accuracy: 0.6410\n",
      "Epoch 4/30\n",
      "100/100 [==============================] - 28s 282ms/step - loss: 0.5732 - accuracy: 0.6999 - val_loss: 0.6056 - val_accuracy: 0.6690\n",
      "Epoch 5/30\n",
      "100/100 [==============================] - 28s 284ms/step - loss: 0.5474 - accuracy: 0.7148 - val_loss: 0.6516 - val_accuracy: 0.6220\n",
      "Epoch 6/30\n",
      "100/100 [==============================] - 26s 263ms/step - loss: 0.5084 - accuracy: 0.7539 - val_loss: 0.5723 - val_accuracy: 0.6990\n",
      "Epoch 7/30\n",
      "100/100 [==============================] - 25s 249ms/step - loss: 0.4885 - accuracy: 0.7649 - val_loss: 0.5874 - val_accuracy: 0.6990\n",
      "Epoch 8/30\n",
      "100/100 [==============================] - 24s 245ms/step - loss: 0.4484 - accuracy: 0.7972 - val_loss: 0.5739 - val_accuracy: 0.7080\n",
      "Epoch 9/30\n",
      "100/100 [==============================] - 25s 245ms/step - loss: 0.4212 - accuracy: 0.8175 - val_loss: 0.6721 - val_accuracy: 0.6800\n",
      "Epoch 10/30\n",
      "100/100 [==============================] - 25s 247ms/step - loss: 0.4027 - accuracy: 0.8117 - val_loss: 0.5664 - val_accuracy: 0.7140\n",
      "Epoch 11/30\n",
      "100/100 [==============================] - 25s 247ms/step - loss: 0.3764 - accuracy: 0.8329 - val_loss: 0.5781 - val_accuracy: 0.7070\n",
      "Epoch 12/30\n",
      "100/100 [==============================] - 25s 245ms/step - loss: 0.3468 - accuracy: 0.8572 - val_loss: 0.6625 - val_accuracy: 0.7040\n",
      "Epoch 13/30\n",
      "100/100 [==============================] - 25s 246ms/step - loss: 0.3297 - accuracy: 0.8711 - val_loss: 0.6133 - val_accuracy: 0.7170\n",
      "Epoch 14/30\n",
      "100/100 [==============================] - 25s 245ms/step - loss: 0.3026 - accuracy: 0.8642 - val_loss: 0.6150 - val_accuracy: 0.7240\n",
      "Epoch 15/30\n",
      "100/100 [==============================] - 25s 246ms/step - loss: 0.2961 - accuracy: 0.8749 - val_loss: 0.6142 - val_accuracy: 0.7300\n",
      "Epoch 16/30\n",
      "100/100 [==============================] - 25s 247ms/step - loss: 0.2403 - accuracy: 0.9120 - val_loss: 0.6332 - val_accuracy: 0.6970\n",
      "Epoch 17/30\n",
      "100/100 [==============================] - 27s 273ms/step - loss: 0.2137 - accuracy: 0.9251 - val_loss: 0.7543 - val_accuracy: 0.7170\n",
      "Epoch 18/30\n",
      "100/100 [==============================] - 27s 265ms/step - loss: 0.1863 - accuracy: 0.9343 - val_loss: 0.6446 - val_accuracy: 0.7330\n",
      "Epoch 19/30\n",
      "100/100 [==============================] - 27s 268ms/step - loss: 0.1764 - accuracy: 0.9354 - val_loss: 0.6801 - val_accuracy: 0.7370\n",
      "Epoch 20/30\n",
      "100/100 [==============================] - 27s 266ms/step - loss: 0.1710 - accuracy: 0.9435 - val_loss: 0.7684 - val_accuracy: 0.7020\n",
      "Epoch 21/30\n",
      "100/100 [==============================] - 27s 265ms/step - loss: 0.1481 - accuracy: 0.9497 - val_loss: 0.7452 - val_accuracy: 0.7320\n",
      "Epoch 22/30\n",
      "100/100 [==============================] - 27s 267ms/step - loss: 0.1240 - accuracy: 0.9558 - val_loss: 0.7942 - val_accuracy: 0.7170\n",
      "Epoch 23/30\n",
      "100/100 [==============================] - 27s 266ms/step - loss: 0.1091 - accuracy: 0.9691 - val_loss: 0.7817 - val_accuracy: 0.7130\n",
      "Epoch 24/30\n",
      "100/100 [==============================] - 27s 273ms/step - loss: 0.1023 - accuracy: 0.9656 - val_loss: 0.8587 - val_accuracy: 0.7060\n",
      "Epoch 25/30\n",
      "100/100 [==============================] - 30s 297ms/step - loss: 0.0786 - accuracy: 0.9738 - val_loss: 1.0687 - val_accuracy: 0.6810\n",
      "Epoch 26/30\n",
      "100/100 [==============================] - 28s 282ms/step - loss: 0.0788 - accuracy: 0.9729 - val_loss: 0.9651 - val_accuracy: 0.7250\n",
      "Epoch 27/30\n",
      "100/100 [==============================] - 25s 253ms/step - loss: 0.0703 - accuracy: 0.9750 - val_loss: 0.8966 - val_accuracy: 0.7190\n",
      "Epoch 28/30\n",
      "100/100 [==============================] - 26s 255ms/step - loss: 0.0423 - accuracy: 0.9891 - val_loss: 1.0065 - val_accuracy: 0.7240\n",
      "Epoch 29/30\n",
      "100/100 [==============================] - 25s 249ms/step - loss: 0.0487 - accuracy: 0.9854 - val_loss: 0.9745 - val_accuracy: 0.7180\n",
      "Epoch 30/30\n",
      "100/100 [==============================] - 25s 254ms/step - loss: 0.0321 - accuracy: 0.9946 - val_loss: 1.0282 - val_accuracy: 0.7300\n"
     ]
    }
   ],
   "source": [
    "history = model.fit_generator(train_datagen,\n",
    "                             steps_per_epoch = 100,\n",
    "                             epochs = 30,\n",
    "                             validation_data = valid_datagen,\n",
    "                             validation_steps = 50)"
   ]
  },
  {
   "cell_type": "code",
   "execution_count": 35,
   "metadata": {},
   "outputs": [],
   "source": [
    "model.save('cats_and_dogs_samll_1.h5')"
   ]
  },
  {
   "cell_type": "code",
   "execution_count": 39,
   "metadata": {},
   "outputs": [
    {
     "data": {
      "image/png": "[encoded data removed]",
      "text/plain": [
       "<Figure size 432x288 with 1 Axes>"
      ]
     },
     "metadata": {
      "needs_background": "light"
     },
     "output_type": "display_data"
    },
    {
     "data": {
      "image/png": "[encoded data removed]",
      "text/plain": [
       "<Figure size 432x288 with 1 Axes>"
      ]
     },
     "metadata": {
      "needs_background": "light"
     },
     "output_type": "display_data"
    }
   ],
   "source": [
    "import matplotlib.pyplot as plt\n",
    "\n",
    "acc = history.history['accuracy']\n",
    "val_acc = history.history['val_accuracy']\n",
    "\n",
    "loss = history.history['loss']\n",
    "val_loss = history.history['val_loss']\n",
    "\n",
    "epochs = range(1,len(acc) + 1)\n",
    "\n",
    "plt.plot(epochs, acc, 'bo' , label = 'Training accuracy')\n",
    "plt.plot(epochs, val_acc, 'b' , label = 'Validation accuracy')\n",
    "plt.title('Training and validation accuracy')\n",
    "plt.legend()\n",
    "\n",
    "plt.figure()\n",
    "\n",
    "plt.plot(epochs, loss, 'bo' , label = 'Training loss')\n",
    "plt.plot(epochs, val_loss, 'b' , label = 'Validation loss')\n",
    "plt.title('Training and validation loss')\n",
    "plt.legend()\n",
    "\n",
    "plt.show()"
   ]
  },
  {
   "cell_type": "code",
   "execution_count": null,
   "metadata": {},
   "outputs": [],
   "source": [
    "from tensorflow.keras.preprocessing.image import ImageDataGenerator\n",
    "datagen = ImageDataGenerator(\n",
    "    rotation_range = 40,\n",
    "    width_shift_range = .2,\n",
    "    height_shift_range = .2,\n",
    "    shear_range = .2,\n",
    "    zoom+range = .2,\n",
    "    horizontal_flip = True,\n",
    "    fill_mode = 'nearest')"
   ]
  },
  {
   "cell_type": "code",
   "execution_count": null,
   "metadata": {},
   "outputs": [],
   "source": [
    "form tensorflow.keras.preprocessing import image\n",
    "\n",
    "fnames = [os.path.join(train_cats_dir, fname) for fname in os.listdir(train_cats_dir)]\n",
    "image_path = fnames[3]\n",
    "img = image.load_img(image_path, target_size = (150,150))\n",
    "x = image.img_to_array(img)\n",
    "x = x.reshape((1,)+x.shape)\n",
    "\n",
    "i = 0\n",
    "for batch in datagen.flow(x, batch_size = 1):\n",
    "    plt.figure(i)\n",
    "    imgplot = plt.imshow(image.array_to_img(batch[0]))\n",
    "    i += 1\n",
    "    if i % 4 ==0:\n",
    "        break\n",
    "\n",
    "plt.show()\n"
   ]
  },
  {
   "cell_type": "code",
   "execution_count": null,
   "metadata": {},
   "outputs": [],
   "source": []
  }
 ],
 "metadata": {
  "kernelspec": {
   "display_name": "Python 3",
   "language": "python",
   "name": "python3"
  },
  "language_info": {
   "codemirror_mode": {
    "name": "ipython",
    "version": 3
   },
   "file_extension": ".py",
   "mimetype": "text/x-python",
   "name": "python",
   "nbconvert_exporter": "python",
   "pygments_lexer": "ipython3",
   "version": "3.6.12"
  }
 },
 "nbformat": 4,
 "nbformat_minor": 2
}
